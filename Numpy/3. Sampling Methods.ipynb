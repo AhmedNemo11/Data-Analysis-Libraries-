{
 "cells": [
  {
   "cell_type": "code",
   "execution_count": 4,
   "metadata": {
    "ExecuteTime": {
     "end_time": "2023-07-17T16:01:21.498693Z",
     "start_time": "2023-07-17T16:01:21.486004Z"
    }
   },
   "outputs": [],
   "source": [
    "import numpy as np"
   ]
  },
  {
   "cell_type": "markdown",
   "metadata": {},
   "source": [
    "### set seed"
   ]
  },
  {
   "cell_type": "code",
   "execution_count": 18,
   "metadata": {
    "ExecuteTime": {
     "end_time": "2023-07-17T16:02:33.675056Z",
     "start_time": "2023-07-17T16:02:33.664110Z"
    }
   },
   "outputs": [
    {
     "data": {
      "text/plain": [
       "array([0.15428758, 0.13369956, 0.36268547])"
      ]
     },
     "execution_count": 18,
     "metadata": {},
     "output_type": "execute_result"
    }
   ],
   "source": [
    "np.random.seed(66)\n",
    "np.random.rand(3)"
   ]
  },
  {
   "cell_type": "code",
   "execution_count": 23,
   "metadata": {
    "ExecuteTime": {
     "end_time": "2023-07-17T16:02:53.901213Z",
     "start_time": "2023-07-17T16:02:53.883339Z"
    }
   },
   "outputs": [
    {
     "data": {
      "text/plain": [
       "array([0.09310829, 0.97165592, 0.48385998])"
      ]
     },
     "execution_count": 23,
     "metadata": {},
     "output_type": "execute_result"
    }
   ],
   "source": [
    "np.random.seed(55)\n",
    "np.random.rand(3)"
   ]
  },
  {
   "cell_type": "code",
   "execution_count": 15,
   "metadata": {
    "ExecuteTime": {
     "end_time": "2023-07-17T16:02:28.720789Z",
     "start_time": "2023-07-17T16:02:28.706006Z"
    }
   },
   "outputs": [
    {
     "data": {
      "text/plain": [
       "array([0.59818609, 0.41322973, 0.03428921])"
      ]
     },
     "execution_count": 15,
     "metadata": {},
     "output_type": "execute_result"
    }
   ],
   "source": [
    "np.random.seed()\n",
    "np.random.rand(3)"
   ]
  },
  {
   "cell_type": "markdown",
   "metadata": {},
   "source": [
    "### set random state which is independent from the global seed"
   ]
  },
  {
   "cell_type": "code",
   "execution_count": 5,
   "metadata": {
    "ExecuteTime": {
     "end_time": "2023-07-17T15:57:50.336188Z",
     "start_time": "2023-07-17T15:57:50.327047Z"
    }
   },
   "outputs": [
    {
     "data": {
      "text/plain": [
       "array([0.51729788, 0.9469626 , 0.76545976, 0.28239584, 0.22104536,\n",
       "       0.68622209, 0.1671392 , 0.39244247, 0.61805235, 0.41193009])"
      ]
     },
     "execution_count": 5,
     "metadata": {},
     "output_type": "execute_result"
    }
   ],
   "source": [
    "rs = np.random.RandomState(23)\n",
    "rs.rand(10)"
   ]
  },
  {
   "cell_type": "code",
   "execution_count": 10,
   "metadata": {
    "ExecuteTime": {
     "end_time": "2023-06-18T16:47:15.863018Z",
     "start_time": "2023-06-18T16:47:15.850527Z"
    }
   },
   "outputs": [
    {
     "data": {
      "text/plain": [
       "array([0.88594794, 0.07791236, 0.97964616])"
      ]
     },
     "execution_count": 10,
     "metadata": {},
     "output_type": "execute_result"
    }
   ],
   "source": [
    "rs = np.random.RandomState(321)\n",
    "rs.rand(3)"
   ]
  },
  {
   "cell_type": "markdown",
   "metadata": {},
   "source": [
    "### generate a random sample from interval [0, 1) in a given shape"
   ]
  },
  {
   "cell_type": "code",
   "execution_count": 6,
   "metadata": {
    "ExecuteTime": {
     "end_time": "2023-07-17T15:58:17.449148Z",
     "start_time": "2023-07-17T15:58:17.442360Z"
    }
   },
   "outputs": [
    {
     "name": "stdout",
     "output_type": "stream",
     "text": [
      "0.6791088754456315\n"
     ]
    }
   ],
   "source": [
    "# generate a random scalar\n",
    "print(np.random.rand())  # from zero to one    "
   ]
  },
  {
   "cell_type": "code",
   "execution_count": 10,
   "metadata": {
    "ExecuteTime": {
     "end_time": "2023-07-17T15:58:24.470538Z",
     "start_time": "2023-07-17T15:58:24.455014Z"
    },
    "scrolled": true
   },
   "outputs": [
    {
     "name": "stdout",
     "output_type": "stream",
     "text": [
      "5.576185895623528\n"
     ]
    }
   ],
   "source": [
    "# generate a random scalar\n",
    "print(np.random.rand() * 10)      "
   ]
  },
  {
   "cell_type": "code",
   "execution_count": 15,
   "metadata": {
    "ExecuteTime": {
     "end_time": "2023-07-17T15:58:34.693353Z",
     "start_time": "2023-07-17T15:58:34.683785Z"
    }
   },
   "outputs": [
    {
     "name": "stdout",
     "output_type": "stream",
     "text": [
      "2\n"
     ]
    }
   ],
   "source": [
    "# generate a random scalar\n",
    "print(int(np.random.rand() * 10))      "
   ]
  },
  {
   "cell_type": "code",
   "execution_count": 19,
   "metadata": {
    "ExecuteTime": {
     "end_time": "2023-07-17T15:58:43.344066Z",
     "start_time": "2023-07-17T15:58:43.336731Z"
    }
   },
   "outputs": [
    {
     "name": "stdout",
     "output_type": "stream",
     "text": [
      "51.445118498405805\n"
     ]
    }
   ],
   "source": [
    "# generate a random scalar\n",
    "print(np.random.rand() * 100) "
   ]
  },
  {
   "cell_type": "code",
   "execution_count": 26,
   "metadata": {
    "ExecuteTime": {
     "end_time": "2023-06-18T16:50:19.879044Z",
     "start_time": "2023-06-18T16:50:19.867837Z"
    }
   },
   "outputs": [
    {
     "name": "stdout",
     "output_type": "stream",
     "text": [
      "[0.66432752 0.63405676 0.35341947 0.02664251 0.16528984 0.87931899\n",
      " 0.06782046 0.3690858  0.11550059 0.09629414]\n",
      "<class 'numpy.ndarray'>\n"
     ]
    }
   ],
   "source": [
    "# generate a 1-D array\n",
    "print(np.random.rand(10) )\n",
    "print(type(np.random.rand(10)))"
   ]
  },
  {
   "cell_type": "code",
   "execution_count": 18,
   "metadata": {
    "ExecuteTime": {
     "end_time": "2023-03-18T19:02:06.319912Z",
     "start_time": "2023-03-18T19:02:06.311090Z"
    }
   },
   "outputs": [
    {
     "name": "stdout",
     "output_type": "stream",
     "text": [
      "[[0.53910547 0.66432752 0.63405676]\n",
      " [0.35341947 0.02664251 0.16528984]\n",
      " [0.87931899 0.06782046 0.3690858 ]]\n"
     ]
    }
   ],
   "source": [
    "# generate a 2-D array\n",
    "print(np.random.rand(3,3))          "
   ]
  },
  {
   "cell_type": "code",
   "execution_count": 27,
   "metadata": {
    "ExecuteTime": {
     "end_time": "2023-06-18T16:50:26.810598Z",
     "start_time": "2023-06-18T16:50:26.799425Z"
    },
    "scrolled": true
   },
   "outputs": [
    {
     "name": "stdout",
     "output_type": "stream",
     "text": [
      "[[[0.30404453 0.18826767 0.12615963]\n",
      "  [0.41421683 0.9446711  0.03834352]\n",
      "  [0.95704009 0.12631581 0.0779476 ]]\n",
      "\n",
      " [[0.16608301 0.9547679  0.26806126]\n",
      "  [0.10054094 0.90777618 0.55337468]\n",
      "  [0.74869262 0.10672348 0.78641439]]\n",
      "\n",
      " [[0.65877773 0.36195657 0.64985479]\n",
      "  [0.23054335 0.71685851 0.2661214 ]\n",
      "  [0.62279616 0.81430885 0.03937529]]]\n"
     ]
    }
   ],
   "source": [
    "# generate a 3-D array\n",
    "print(np.random.rand(3,3,3))"
   ]
  },
  {
   "cell_type": "code",
   "execution_count": 28,
   "metadata": {
    "ExecuteTime": {
     "end_time": "2023-06-18T16:50:30.540290Z",
     "start_time": "2023-06-18T16:50:30.528788Z"
    }
   },
   "outputs": [
    {
     "name": "stdout",
     "output_type": "stream",
     "text": [
      "[[[[5.91262143e-01 3.21387831e-01 5.11416280e-01]\n",
      "   [5.03405841e-01 3.11063956e-01 9.07980825e-01]\n",
      "   [2.74152625e-01 8.18676180e-01 5.52782565e-01]]\n",
      "\n",
      "  [[6.47089825e-01 7.02874382e-01 4.11805810e-01]\n",
      "   [8.98347961e-01 6.41083171e-02 6.64467733e-01]\n",
      "   [3.16882748e-01 7.03736931e-01 7.70374642e-01]]\n",
      "\n",
      "  [[4.18003926e-01 8.92316485e-02 2.33518873e-01]\n",
      "   [7.59518707e-01 4.69182143e-01 2.02953722e-01]\n",
      "   [6.96093851e-01 9.09948634e-01 5.82322805e-02]]]\n",
      "\n",
      "\n",
      " [[[7.88587264e-01 3.95683764e-01 8.15125530e-01]\n",
      "   [5.66379461e-01 3.99532570e-01 6.98900921e-01]\n",
      "   [5.86129915e-01 5.48260640e-01 5.13352940e-04]]\n",
      "\n",
      "  [[5.58941164e-01 5.54009148e-01 2.99056732e-01]\n",
      "   [2.16054328e-01 1.25615479e-01 6.47052919e-01]\n",
      "   [4.69024537e-01 7.97958857e-01 1.29142911e-02]]\n",
      "\n",
      "  [[8.69272440e-01 3.71849961e-01 7.52543552e-01]\n",
      "   [8.67430469e-01 2.40413738e-01 4.95077760e-01]\n",
      "   [8.19241343e-01 8.23460428e-01 5.82590357e-01]]]\n",
      "\n",
      "\n",
      " [[[2.20496711e-01 4.65118990e-01 2.68446802e-01]\n",
      "   [6.62640093e-01 6.02580844e-01 2.76346705e-01]\n",
      "   [3.31249612e-01 6.24967361e-01 4.13996447e-01]]\n",
      "\n",
      "  [[2.01953072e-01 5.95835132e-01 5.27224404e-01]\n",
      "   [9.18502367e-01 3.31153836e-02 3.69054215e-01]\n",
      "   [4.71399198e-01 2.68363134e-01 8.81059577e-01]]\n",
      "\n",
      "  [[5.37472633e-01 2.92618312e-01 5.55129376e-02]\n",
      "   [9.88838210e-01 9.72537656e-01 4.44150319e-01]\n",
      "   [9.18124123e-01 3.82770439e-02 3.81927713e-01]]]]\n"
     ]
    }
   ],
   "source": [
    "# generate a 4-D array\n",
    "print(np.random.rand(3,3,3,3))          "
   ]
  },
  {
   "cell_type": "markdown",
   "metadata": {},
   "source": [
    "### generate a sample from the standard normal distribution (mean = 0, var = 1)"
   ]
  },
  {
   "cell_type": "code",
   "execution_count": 26,
   "metadata": {
    "ExecuteTime": {
     "end_time": "2022-06-13T17:12:58.685374Z",
     "start_time": "2022-06-13T17:12:58.681374Z"
    }
   },
   "outputs": [
    {
     "name": "stdout",
     "output_type": "stream",
     "text": [
      "[[ 1.60762261  0.34502972  0.19466217]\n",
      " [-0.26729125 -1.22087721  1.40425451]\n",
      " [-1.21532397  0.67588651 -0.98335124]]\n"
     ]
    }
   ],
   "source": [
    "print(np.random.randn(3,3))"
   ]
  },
  {
   "cell_type": "markdown",
   "metadata": {},
   "source": [
    "### generate an array of random integers in a given interval [low, high)"
   ]
  },
  {
   "cell_type": "code",
   "execution_count": 20,
   "metadata": {
    "ExecuteTime": {
     "end_time": "2023-07-17T15:59:11.102615Z",
     "start_time": "2023-07-17T15:59:11.086399Z"
    }
   },
   "outputs": [
    {
     "name": "stdout",
     "output_type": "stream",
     "text": [
      "[9 3 8]\n"
     ]
    }
   ],
   "source": [
    "# np.ranodm.randint(low, high, size, dtype)\n",
    "print(np.random.randint(1, 10, 3, 'i8'))"
   ]
  },
  {
   "cell_type": "markdown",
   "metadata": {},
   "source": [
    "### generate an array of random floating-point numbers in the interval [0.0, 1.0)"
   ]
  },
  {
   "cell_type": "code",
   "execution_count": 28,
   "metadata": {
    "ExecuteTime": {
     "end_time": "2022-06-13T17:13:16.287193Z",
     "start_time": "2022-06-13T17:13:16.281193Z"
    }
   },
   "outputs": [
    {
     "name": "stdout",
     "output_type": "stream",
     "text": [
      "[0.43272219 0.4409926  0.41830042 0.12510184 0.23433741 0.38529304\n",
      " 0.41147671 0.49555814 0.88650583 0.96566402]\n",
      "\n",
      "[0.18335173 0.57615175 0.14656317 0.3198636  0.66461515 0.39455975\n",
      " 0.45229316 0.96282936 0.21565009 0.21784078]\n",
      "\n",
      "[0.12401236 0.61865406 0.26324531 0.26834124 0.49593699 0.17505415\n",
      " 0.2107553  0.38733881 0.87903361 0.74352249]\n",
      "\n",
      "[0.73629731 0.48220734 0.83973717 0.75215987 0.50590132 0.47783335\n",
      " 0.06525612 0.15593831 0.12941788 0.04582272]\n"
     ]
    }
   ],
   "source": [
    "# the following methods are the same as np.random.rand()\n",
    "print(np.random.random_sample(10))\n",
    "print()\n",
    "print(np.random.random(10))\n",
    "print()\n",
    "print(np.random.ranf(10))\n",
    "print()\n",
    "print(np.random.sample(10))"
   ]
  },
  {
   "cell_type": "markdown",
   "metadata": {},
   "source": [
    "### generate a random sample from a given 1-D array"
   ]
  },
  {
   "cell_type": "code",
   "execution_count": 27,
   "metadata": {
    "ExecuteTime": {
     "end_time": "2023-03-18T19:04:12.127856Z",
     "start_time": "2023-03-18T19:04:12.118727Z"
    }
   },
   "outputs": [
    {
     "name": "stdout",
     "output_type": "stream",
     "text": [
      "[2 2 2 2 2 2 0 2 2 2]\n"
     ]
    }
   ],
   "source": [
    "# np.random.choice(iterable_or_int, size, replace=True, p=weights)\n",
    "print(np.random.choice(range(3), 10, replace=True, p=[0.1, 0.3, 0.6]))"
   ]
  },
  {
   "cell_type": "code",
   "execution_count": 45,
   "metadata": {
    "ExecuteTime": {
     "end_time": "2021-09-30T11:39:14.267979Z",
     "start_time": "2021-09-30T11:39:14.251835Z"
    }
   },
   "outputs": [
    {
     "name": "stdout",
     "output_type": "stream",
     "text": [
      "[1 1 1 2 0 1 2 0 0 0]\n"
     ]
    }
   ],
   "source": [
    "# np.random.choice(iterable_or_int, size, replace=True, p=weights)\n",
    "print(np.random.choice(range(3), 10, replace=True, p=[0.4, 0.4, 0.2]))"
   ]
  },
  {
   "cell_type": "code",
   "execution_count": 25,
   "metadata": {
    "ExecuteTime": {
     "end_time": "2022-02-18T11:42:23.656125Z",
     "start_time": "2022-02-18T11:42:23.639125Z"
    }
   },
   "outputs": [
    {
     "name": "stdout",
     "output_type": "stream",
     "text": [
      "[0 1 1 0 1 0 1 2 2 0]\n"
     ]
    }
   ],
   "source": [
    "print(np.random.choice(3, 10))"
   ]
  },
  {
   "cell_type": "code",
   "execution_count": 48,
   "metadata": {
    "ExecuteTime": {
     "end_time": "2021-09-30T11:39:39.577748Z",
     "start_time": "2021-09-30T11:39:39.573759Z"
    }
   },
   "outputs": [
    {
     "name": "stdout",
     "output_type": "stream",
     "text": [
      "[2 3 2 1 1 3 3 2 3 2]\n"
     ]
    }
   ],
   "source": [
    "print(np.random.choice([1,2,3], 10))"
   ]
  },
  {
   "cell_type": "markdown",
   "metadata": {},
   "source": [
    "### shuffle an array in place"
   ]
  },
  {
   "cell_type": "code",
   "execution_count": 22,
   "metadata": {
    "ExecuteTime": {
     "end_time": "2023-07-07T08:47:48.559651Z",
     "start_time": "2023-07-07T08:47:48.547899Z"
    }
   },
   "outputs": [
    {
     "name": "stdout",
     "output_type": "stream",
     "text": [
      "[0 1 2 3 4 5 6 7 8 9]\n"
     ]
    }
   ],
   "source": [
    "arr = np.array(range(10))\n",
    "print(arr)"
   ]
  },
  {
   "cell_type": "code",
   "execution_count": 23,
   "metadata": {
    "ExecuteTime": {
     "end_time": "2023-07-07T08:47:52.245137Z",
     "start_time": "2023-07-07T08:47:52.236780Z"
    }
   },
   "outputs": [
    {
     "name": "stdout",
     "output_type": "stream",
     "text": [
      "[5 1 8 4 6 3 0 2 7 9]\n"
     ]
    }
   ],
   "source": [
    "np.random.shuffle(arr)\n",
    "print(arr)"
   ]
  },
  {
   "cell_type": "markdown",
   "metadata": {},
   "source": [
    "### generate a permutation of an array"
   ]
  },
  {
   "cell_type": "code",
   "execution_count": 24,
   "metadata": {
    "ExecuteTime": {
     "end_time": "2023-07-07T08:47:57.499692Z",
     "start_time": "2023-07-07T08:47:57.491822Z"
    }
   },
   "outputs": [
    {
     "name": "stdout",
     "output_type": "stream",
     "text": [
      "The initial array:  [0 1 2 3 4 5 6 7 8 9]\n",
      "A permutation of the array:  [9 3 0 8 7 4 2 6 1 5]\n"
     ]
    }
   ],
   "source": [
    "# similar to np.random.shuffle(), but it returns a copy rather than making changes in place\n",
    "arr = np.array(range(10))\n",
    "print('The initial array: ', arr)\n",
    "print('A permutation of the array: ', np.random.permutation(arr))"
   ]
  },
  {
   "cell_type": "code",
   "execution_count": null,
   "metadata": {},
   "outputs": [],
   "source": []
  }
 ],
 "metadata": {
  "kernelspec": {
   "display_name": "Python 3 (ipykernel)",
   "language": "python",
   "name": "python3"
  },
  "language_info": {
   "codemirror_mode": {
    "name": "ipython",
    "version": 3
   },
   "file_extension": ".py",
   "mimetype": "text/x-python",
   "name": "python",
   "nbconvert_exporter": "python",
   "pygments_lexer": "ipython3",
   "version": "3.9.13"
  },
  "toc": {
   "base_numbering": 1,
   "nav_menu": {},
   "number_sections": true,
   "sideBar": true,
   "skip_h1_title": false,
   "title_cell": "Table of Contents",
   "title_sidebar": "Contents",
   "toc_cell": false,
   "toc_position": {},
   "toc_section_display": true,
   "toc_window_display": false
  },
  "varInspector": {
   "cols": {
    "lenName": 16,
    "lenType": 16,
    "lenVar": 40
   },
   "kernels_config": {
    "python": {
     "delete_cmd_postfix": "",
     "delete_cmd_prefix": "del ",
     "library": "var_list.py",
     "varRefreshCmd": "print(var_dic_list())"
    },
    "r": {
     "delete_cmd_postfix": ") ",
     "delete_cmd_prefix": "rm(",
     "library": "var_list.r",
     "varRefreshCmd": "cat(var_dic_list()) "
    }
   },
   "types_to_exclude": [
    "module",
    "function",
    "builtin_function_or_method",
    "instance",
    "_Feature"
   ],
   "window_display": false
  }
 },
 "nbformat": 4,
 "nbformat_minor": 2
}
