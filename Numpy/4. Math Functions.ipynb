{
 "cells": [
  {
   "cell_type": "code",
   "execution_count": 1,
   "metadata": {
    "ExecuteTime": {
     "end_time": "2023-07-17T16:19:52.737521Z",
     "start_time": "2023-07-17T16:19:52.048415Z"
    }
   },
   "outputs": [],
   "source": [
    "import numpy as np"
   ]
  },
  {
   "cell_type": "code",
   "execution_count": 2,
   "metadata": {
    "ExecuteTime": {
     "end_time": "2023-07-17T16:19:52.744653Z",
     "start_time": "2023-07-17T16:19:52.738878Z"
    },
    "scrolled": true
   },
   "outputs": [
    {
     "data": {
      "text/plain": [
       "array([[0.32075897, 0.32479573, 0.64816778, 0.46071548, 0.67969232],\n",
       "       [0.42664215, 0.241982  , 0.20092149, 0.27095483, 0.99452742],\n",
       "       [0.03003101, 0.5164804 , 0.48286694, 0.76645324, 0.88903558],\n",
       "       [0.57367264, 0.83181623, 0.18826016, 0.87859777, 0.04773419],\n",
       "       [0.532903  , 0.38310071, 0.11520815, 0.91256143, 0.15236344]])"
      ]
     },
     "execution_count": 2,
     "metadata": {},
     "output_type": "execute_result"
    }
   ],
   "source": [
    "arr = np.random.rand(5,5)\n",
    "arr"
   ]
  },
  {
   "cell_type": "markdown",
   "metadata": {},
   "source": [
    "### element-wise addition, subtraction, multiplication and division"
   ]
  },
  {
   "cell_type": "code",
   "execution_count": 4,
   "metadata": {
    "ExecuteTime": {
     "end_time": "2023-07-07T09:04:37.424188Z",
     "start_time": "2023-07-07T09:04:37.403927Z"
    }
   },
   "outputs": [
    {
     "name": "stdout",
     "output_type": "stream",
     "text": [
      "[[10.36520315 10.14002948 10.32671536 10.90246944 10.40790343]\n",
      " [10.56042917 10.88899044 10.24073532 10.51234433 10.46964386]\n",
      " [10.60038623 10.65996261 10.16667633 10.68757035 10.50975363]\n",
      " [10.75156859 10.77046029 10.13185365 10.52231003 10.91158626]\n",
      " [10.5972015  10.97839553 10.8847643  10.90894003 10.44469332]]\n",
      "\n",
      "[[-9.63479685 -9.85997052 -9.67328464 -9.09753056 -9.59209657]\n",
      " [-9.43957083 -9.11100956 -9.75926468 -9.48765567 -9.53035614]\n",
      " [-9.39961377 -9.34003739 -9.83332367 -9.31242965 -9.49024637]\n",
      " [-9.24843141 -9.22953971 -9.86814635 -9.47768997 -9.08841374]\n",
      " [-9.4027985  -9.02160447 -9.1152357  -9.09105997 -9.55530668]]\n",
      "\n",
      "[[3.65203147 1.40029477 3.26715356 9.02469438 4.07903427]\n",
      " [5.6042917  8.88990436 2.40735315 5.12344326 4.69643855]\n",
      " [6.00386233 6.59962611 1.66676334 6.87570347 5.09753627]\n",
      " [7.51568592 7.70460294 1.3185365  5.22310027 9.11586262]\n",
      " [5.97201502 9.78395526 8.84764303 9.08940028 4.44693322]]\n",
      "\n",
      "[[0.03652031 0.01400295 0.03267154 0.09024694 0.04079034]\n",
      " [0.05604292 0.08889904 0.02407353 0.05123443 0.04696439]\n",
      " [0.06003862 0.06599626 0.01666763 0.06875703 0.05097536]\n",
      " [0.07515686 0.07704603 0.01318536 0.052231   0.09115863]\n",
      " [0.05972015 0.09783955 0.08847643 0.090894   0.04446933]]\n"
     ]
    }
   ],
   "source": [
    "print(arr + 10)\n",
    "print()\n",
    "print(arr - 10)\n",
    "print()\n",
    "print(arr * 10)\n",
    "print()\n",
    "print(arr / 10)"
   ]
  },
  {
   "cell_type": "code",
   "execution_count": 5,
   "metadata": {
    "ExecuteTime": {
     "end_time": "2023-07-07T09:04:48.156240Z",
     "start_time": "2023-07-07T09:04:48.144528Z"
    }
   },
   "outputs": [
    {
     "name": "stdout",
     "output_type": "stream",
     "text": [
      "[ 9 11 13]\n",
      "[ 7 10  1]\n",
      "[ 7 20  3]\n"
     ]
    }
   ],
   "source": [
    "# the above operations can be performed using numpy built-in functions\n",
    "# which can save memory as the output can be stored in the original array rather than assigning new memory\n",
    "arr1 = np.array([1,2,3])\n",
    "x = np.add(arr1, [8,9,10], out=arr1)\n",
    "print(arr1)\n",
    "\n",
    "np.subtract(arr1, [2,1,12], out=arr1)\n",
    "print(arr1)\n",
    "\n",
    "np.multiply(arr1, [1,2,3], out=arr1)\n",
    "print(arr1)"
   ]
  },
  {
   "cell_type": "markdown",
   "metadata": {},
   "source": [
    "### element-wise exponentiation"
   ]
  },
  {
   "cell_type": "code",
   "execution_count": 4,
   "metadata": {
    "ExecuteTime": {
     "end_time": "2023-03-04T10:41:31.799691Z",
     "start_time": "2023-03-04T10:41:31.792058Z"
    }
   },
   "outputs": [
    {
     "name": "stdout",
     "output_type": "stream",
     "text": [
      "[[1.65529819 1.04025389 1.6782037  1.00539798 2.14692074]\n",
      " [1.26794974 1.71224599 2.67560762 1.49659368 1.08823404]\n",
      " [2.35011188 1.27162025 1.44043059 1.05294387 1.24056768]\n",
      " [1.66209918 1.05680009 1.47869681 1.53913911 2.27258786]\n",
      " [1.20518356 1.14731731 1.18932689 1.04600339 2.16967814]]\n"
     ]
    }
   ],
   "source": [
    "print(np.exp(arr))"
   ]
  },
  {
   "cell_type": "markdown",
   "metadata": {},
   "source": [
    "### element-wise logorithm"
   ]
  },
  {
   "cell_type": "code",
   "execution_count": 5,
   "metadata": {
    "ExecuteTime": {
     "end_time": "2023-03-04T10:41:37.164666Z",
     "start_time": "2023-03-04T10:41:37.155982Z"
    }
   },
   "outputs": [
    {
     "name": "stdout",
     "output_type": "stream",
     "text": [
      "[[-0.68521637 -3.23234603 -0.658313   -5.22442354 -0.2691422 ]\n",
      " [-1.43800367 -0.62025747 -0.01595002 -0.90834329 -2.47033841]\n",
      " [-0.15728216 -1.42590095 -1.00801659 -2.96442888 -1.53447386]\n",
      " [-0.67711367 -2.89596728 -0.93863561 -0.84112936 -0.19733058]\n",
      " [-1.6786171  -1.98466647 -1.75222625 -3.10161282 -0.25543584]]\n"
     ]
    }
   ],
   "source": [
    "# natural log ( base e )\n",
    "print(np.log(arr)) "
   ]
  },
  {
   "cell_type": "code",
   "execution_count": 6,
   "metadata": {
    "ExecuteTime": {
     "end_time": "2023-03-04T10:41:42.094161Z",
     "start_time": "2023-03-04T10:41:42.084900Z"
    }
   },
   "outputs": [
    {
     "name": "stdout",
     "output_type": "stream",
     "text": [
      "[[-0.98855826 -4.66328958 -0.9497449  -7.53724994 -0.38829012]\n",
      " [-2.07460076 -0.89484237 -0.02301102 -1.31046236 -3.56394498]\n",
      " [-0.22691019 -2.05714023 -1.45426054 -4.27676684 -2.21377783]\n",
      " [-0.97686853 -4.17799763 -1.35416494 -1.21349316 -0.28468785]\n",
      " [-2.42173257 -2.86326847 -2.52792812 -4.47468143 -0.36851602]]\n"
     ]
    }
   ],
   "source": [
    "# base 2\n",
    "print(np.log2(arr))     "
   ]
  },
  {
   "cell_type": "code",
   "execution_count": 7,
   "metadata": {
    "ExecuteTime": {
     "end_time": "2023-03-04T10:41:46.813225Z",
     "start_time": "2023-03-04T10:41:46.807308Z"
    }
   },
   "outputs": [
    {
     "name": "stdout",
     "output_type": "stream",
     "text": [
      "[[-0.29758569 -1.40379004 -0.2859017  -2.26893832 -0.11688697]\n",
      " [-0.62451706 -0.2693744  -0.00692701 -0.39448848 -1.07285434]\n",
      " [-0.06830677 -0.61926091 -0.43777604 -1.2874351  -0.66641353]\n",
      " [-0.29406673 -1.25770261 -0.40764427 -0.36529784 -0.08569958]\n",
      " [-0.72901414 -0.8619297  -0.76098219 -1.34701333 -0.11093438]]\n"
     ]
    }
   ],
   "source": [
    "# base 10\n",
    "print(np.log10(arr))    "
   ]
  },
  {
   "cell_type": "markdown",
   "metadata": {},
   "source": [
    "### element-wise square root"
   ]
  },
  {
   "cell_type": "code",
   "execution_count": 4,
   "metadata": {
    "ExecuteTime": {
     "end_time": "2023-06-18T16:54:31.646107Z",
     "start_time": "2023-06-18T16:54:31.638259Z"
    }
   },
   "outputs": [
    {
     "name": "stdout",
     "output_type": "stream",
     "text": [
      "[[0.84170664 0.99712459 0.89303808 0.91490252 0.80626664]\n",
      " [0.60795478 0.75441316 0.42179893 0.39268775 0.94972487]\n",
      " [0.9001505  0.6297466  0.77159573 0.82984387 0.65263596]\n",
      " [0.77422187 0.89838718 0.95842604 0.98581007 0.76386174]\n",
      " [0.40434462 0.71533625 0.73532568 0.80970994 0.78337234]]\n"
     ]
    }
   ],
   "source": [
    "print(np.sqrt(arr))"
   ]
  },
  {
   "cell_type": "markdown",
   "metadata": {},
   "source": [
    "### element-wise sine and cosine"
   ]
  },
  {
   "cell_type": "code",
   "execution_count": 5,
   "metadata": {
    "ExecuteTime": {
     "end_time": "2023-06-18T16:54:36.100306Z",
     "start_time": "2023-06-18T16:54:36.091570Z"
    }
   },
   "outputs": [
    {
     "name": "stdout",
     "output_type": "stream",
     "text": [
      "[[0.65067276 0.83835442 0.71562397 0.7426686  0.60523887]\n",
      " [0.36125088 0.53890716 0.17697722 0.15359327 0.7845545 ]\n",
      " [0.72447395 0.38626676 0.56080682 0.63548835 0.41317124]\n",
      " [0.56416327 0.72228425 0.79474084 0.82591404 0.55093548]\n",
      " [0.16276717 0.48966539 0.51473957 0.60965889 0.57587352]]\n"
     ]
    }
   ],
   "source": [
    "print(np.sin(arr))"
   ]
  },
  {
   "cell_type": "code",
   "execution_count": 6,
   "metadata": {
    "ExecuteTime": {
     "end_time": "2023-06-18T16:54:39.142433Z",
     "start_time": "2023-06-18T16:54:39.131145Z"
    },
    "scrolled": true
   },
   "outputs": [
    {
     "name": "stdout",
     "output_type": "stream",
     "text": [
      "[[0.75935825 0.54512556 0.69848575 0.66965913 0.79604391]\n",
      " [0.93246866 0.84236517 0.98421495 0.98813415 0.62005986]\n",
      " [0.68930219 0.92238711 0.82794668 0.77211046 0.91065335]\n",
      " [0.82566325 0.69159631 0.60694893 0.56379606 0.83454784]\n",
      " [0.98666451 0.87191043 0.85734659 0.79266388 0.8175388 ]]\n"
     ]
    }
   ],
   "source": [
    "print(np.cos(arr))"
   ]
  },
  {
   "cell_type": "markdown",
   "metadata": {},
   "source": [
    "### sum along a specified axis"
   ]
  },
  {
   "cell_type": "code",
   "execution_count": 3,
   "metadata": {
    "ExecuteTime": {
     "end_time": "2023-07-17T16:22:15.865059Z",
     "start_time": "2023-07-17T16:22:15.851910Z"
    }
   },
   "outputs": [
    {
     "name": "stdout",
     "output_type": "stream",
     "text": [
      "[1.88400778 2.29817506 1.63542452 3.28928274 2.76335295]\n"
     ]
    }
   ],
   "source": [
    "# sum along the row\n",
    "print(np.sum(arr, axis=0)) # 5 * 5 --> 5 sum    "
   ]
  },
  {
   "cell_type": "code",
   "execution_count": 4,
   "metadata": {
    "ExecuteTime": {
     "end_time": "2023-07-17T16:22:17.978326Z",
     "start_time": "2023-07-17T16:22:17.960799Z"
    }
   },
   "outputs": [
    {
     "name": "stdout",
     "output_type": "stream",
     "text": [
      "[2.43413027 2.13502789 2.68486717 2.52008099 2.09613674]\n"
     ]
    }
   ],
   "source": [
    "# sum along the column\n",
    "print(np.sum(arr, axis=1))    "
   ]
  },
  {
   "cell_type": "code",
   "execution_count": 7,
   "metadata": {
    "ExecuteTime": {
     "end_time": "2023-07-07T09:05:46.538705Z",
     "start_time": "2023-07-07T09:05:46.532335Z"
    }
   },
   "outputs": [
    {
     "name": "stdout",
     "output_type": "stream",
     "text": [
      "14.340586603207418\n"
     ]
    }
   ],
   "source": [
    "print(np.sum(arr))"
   ]
  },
  {
   "cell_type": "markdown",
   "metadata": {},
   "source": [
    "### compute the min and max along a specified axis"
   ]
  },
  {
   "cell_type": "code",
   "execution_count": 11,
   "metadata": {
    "ExecuteTime": {
     "end_time": "2023-06-18T16:55:38.111895Z",
     "start_time": "2023-06-18T16:55:38.099742Z"
    }
   },
   "outputs": [
    {
     "name": "stdout",
     "output_type": "stream",
     "text": [
      "[0.16349458 0.39658078 0.17791433 0.15420367 0.4259337 ]\n"
     ]
    }
   ],
   "source": [
    "# calculate min along the row\n",
    "print(np.min(arr, axis=0))"
   ]
  },
  {
   "cell_type": "code",
   "execution_count": 12,
   "metadata": {
    "ExecuteTime": {
     "end_time": "2023-06-18T16:55:42.459100Z",
     "start_time": "2023-06-18T16:55:42.451855Z"
    }
   },
   "outputs": [
    {
     "name": "stdout",
     "output_type": "stream",
     "text": [
      "[0.99425745 0.90197732 0.81027092 0.9718215  0.65563019]\n"
     ]
    }
   ],
   "source": [
    "# calculate max along the column\n",
    "print(np.max(arr, axis=1))    "
   ]
  },
  {
   "cell_type": "code",
   "execution_count": 13,
   "metadata": {
    "ExecuteTime": {
     "end_time": "2023-06-18T16:55:53.457750Z",
     "start_time": "2023-06-18T16:55:53.451203Z"
    }
   },
   "outputs": [
    {
     "name": "stdout",
     "output_type": "stream",
     "text": [
      "0.9942574525030909\n",
      "0.154203672317354\n"
     ]
    }
   ],
   "source": [
    "# if axis not specified, calculate the max/min value of all elements\n",
    "print(np.max(arr))\n",
    "print(np.min(arr))"
   ]
  },
  {
   "cell_type": "markdown",
   "metadata": {},
   "source": [
    "### compute the indices of the min and max along a specified axis"
   ]
  },
  {
   "cell_type": "code",
   "execution_count": 17,
   "metadata": {
    "ExecuteTime": {
     "end_time": "2023-03-04T10:42:35.353100Z",
     "start_time": "2023-03-04T10:42:35.340804Z"
    }
   },
   "outputs": [
    {
     "data": {
      "text/plain": [
       "array([[0.50398117, 0.0394648 , 0.517724  , 0.00538346, 0.7640346 ],\n",
       "       [0.23740122, 0.53780595, 0.9841765 , 0.40319164, 0.08455624],\n",
       "       [0.85446293, 0.24029187, 0.36494209, 0.05158993, 0.21556908],\n",
       "       [0.50808137, 0.05524556, 0.39116117, 0.43122324, 0.82091921],\n",
       "       [0.18663189, 0.13742644, 0.17338751, 0.0449766 , 0.77457883]])"
      ]
     },
     "execution_count": 17,
     "metadata": {},
     "output_type": "execute_result"
    }
   ],
   "source": [
    "arr"
   ]
  },
  {
   "cell_type": "code",
   "execution_count": 18,
   "metadata": {
    "ExecuteTime": {
     "end_time": "2023-03-04T10:42:37.022707Z",
     "start_time": "2023-03-04T10:42:37.010308Z"
    }
   },
   "outputs": [
    {
     "name": "stdout",
     "output_type": "stream",
     "text": [
      "[4 0 4 0 1]\n",
      "[2 1 1 3 3]\n"
     ]
    }
   ],
   "source": [
    "# along the row\n",
    "print(np.argmin(arr, axis=0))\n",
    "print(np.argmax(arr, axis=0))"
   ]
  },
  {
   "cell_type": "code",
   "execution_count": 19,
   "metadata": {
    "ExecuteTime": {
     "end_time": "2023-03-04T10:42:40.070383Z",
     "start_time": "2023-03-04T10:42:40.062200Z"
    }
   },
   "outputs": [
    {
     "name": "stdout",
     "output_type": "stream",
     "text": [
      "[3 4 3 1 3]\n",
      "[4 2 0 4 4]\n"
     ]
    }
   ],
   "source": [
    "# along the column\n",
    "print(np.argmin(arr, axis=1))\n",
    "print(np.argmax(arr, axis=1))"
   ]
  },
  {
   "cell_type": "code",
   "execution_count": 20,
   "metadata": {
    "ExecuteTime": {
     "end_time": "2023-03-04T10:42:40.491739Z",
     "start_time": "2023-03-04T10:42:40.486496Z"
    },
    "scrolled": true
   },
   "outputs": [
    {
     "name": "stdout",
     "output_type": "stream",
     "text": [
      "3\n",
      "7\n"
     ]
    }
   ],
   "source": [
    "# if axis not specified, return the index of the flattened array\n",
    "print(np.argmin(arr))\n",
    "print(np.argmax(arr))"
   ]
  },
  {
   "cell_type": "code",
   "execution_count": 21,
   "metadata": {
    "ExecuteTime": {
     "end_time": "2023-03-04T10:42:43.408581Z",
     "start_time": "2023-03-04T10:42:43.400323Z"
    }
   },
   "outputs": [
    {
     "data": {
      "text/plain": [
       "array([[0.50398117, 0.0394648 , 0.517724  , 0.00538346, 0.7640346 ],\n",
       "       [0.23740122, 0.53780595, 0.9841765 , 0.40319164, 0.08455624],\n",
       "       [0.85446293, 0.24029187, 0.36494209, 0.05158993, 0.21556908],\n",
       "       [0.50808137, 0.05524556, 0.39116117, 0.43122324, 0.82091921],\n",
       "       [0.18663189, 0.13742644, 0.17338751, 0.0449766 , 0.77457883]])"
      ]
     },
     "execution_count": 21,
     "metadata": {},
     "output_type": "execute_result"
    }
   ],
   "source": [
    "arr"
   ]
  },
  {
   "cell_type": "markdown",
   "metadata": {},
   "source": [
    "### compute element-wise min and max of two arrays"
   ]
  },
  {
   "cell_type": "code",
   "execution_count": 24,
   "metadata": {
    "ExecuteTime": {
     "end_time": "2022-06-13T17:43:56.165095Z",
     "start_time": "2022-06-13T17:43:56.161090Z"
    }
   },
   "outputs": [
    {
     "name": "stdout",
     "output_type": "stream",
     "text": [
      "[1 4 5 8 9]\n",
      "\n",
      "[0 3 3 7 7]\n"
     ]
    }
   ],
   "source": [
    "arr1 = np.array([1, 3, 5, 7, 9])\n",
    "arr2 = np.array([0, 4, 3, 8, 7])\n",
    "print(np.maximum(arr1, arr2))\n",
    "print()\n",
    "print(np.minimum(arr1, arr2))"
   ]
  },
  {
   "cell_type": "markdown",
   "metadata": {},
   "source": [
    "### split fractional and integral parts of a floating-point array"
   ]
  },
  {
   "cell_type": "code",
   "execution_count": 26,
   "metadata": {
    "ExecuteTime": {
     "end_time": "2021-09-18T10:47:43.047337Z",
     "start_time": "2021-09-18T10:47:43.028388Z"
    },
    "scrolled": false
   },
   "outputs": [
    {
     "name": "stdout",
     "output_type": "stream",
     "text": [
      "6.666666666666667\n",
      "['6', '666666666666667']\n",
      "fraction = 666666666666667\n",
      "666666666666667\n",
      "6\n"
     ]
    }
   ],
   "source": [
    "print(20 / 3)\n",
    "x = 20/3\n",
    "x = str(x)\n",
    "print(x.split(\".\"))\n",
    "anas = x.split(\".\")[1]\n",
    "print(f\"fraction = {anas}\")\n",
    "x = int(x[2:])\n",
    "\n",
    "print(x)\n",
    "print (20 // 3)"
   ]
  },
  {
   "cell_type": "code",
   "execution_count": 27,
   "metadata": {
    "ExecuteTime": {
     "end_time": "2021-09-18T10:48:41.094034Z",
     "start_time": "2021-09-18T10:48:41.076082Z"
    }
   },
   "outputs": [
    {
     "name": "stdout",
     "output_type": "stream",
     "text": [
      "0.666666666666667\n",
      "666666666666667\n"
     ]
    }
   ],
   "source": [
    "y= ((20/3)-(20 // 3))\n",
    "print(y)\n",
    "x = (len(str((20/3)-(20 // 3)))-2)\n",
    "print(int((10**x) * y))"
   ]
  },
  {
   "cell_type": "code",
   "execution_count": 28,
   "metadata": {
    "ExecuteTime": {
     "end_time": "2021-09-18T10:48:59.052720Z",
     "start_time": "2021-09-18T10:48:59.042748Z"
    }
   },
   "outputs": [
    {
     "data": {
      "text/plain": [
       "2"
      ]
     },
     "execution_count": 28,
     "metadata": {},
     "output_type": "execute_result"
    }
   ],
   "source": [
    "20 % 3"
   ]
  },
  {
   "cell_type": "code",
   "execution_count": 15,
   "metadata": {
    "ExecuteTime": {
     "end_time": "2023-06-18T17:00:53.587840Z",
     "start_time": "2023-06-18T17:00:53.578717Z"
    }
   },
   "outputs": [
    {
     "name": "stdout",
     "output_type": "stream",
     "text": [
      "[5.65337024 9.20017535 3.61615494 3.67143396 3.74841939 3.98469219\n",
      " 2.53330776 1.5128947  1.26567116 8.23973139]\n",
      "\n",
      "fractional:  [0.65337024 0.20017535 0.61615494 0.67143396 0.74841939 0.98469219\n",
      " 0.53330776 0.5128947  0.26567116 0.23973139]\n",
      "integral:  [5. 9. 3. 3. 3. 3. 2. 1. 1. 8.]\n"
     ]
    }
   ],
   "source": [
    "arr1 = np.random.rand(10) * 10\n",
    "\n",
    "print(arr1)\n",
    "print()\n",
    "re, intg = np.modf(arr1)\n",
    "print('fractional: ', re)\n",
    "print('integral: ', intg)"
   ]
  },
  {
   "cell_type": "code",
   "execution_count": 24,
   "metadata": {
    "ExecuteTime": {
     "end_time": "2021-09-30T11:53:00.924261Z",
     "start_time": "2021-09-30T11:53:00.911294Z"
    }
   },
   "outputs": [
    {
     "name": "stdout",
     "output_type": "stream",
     "text": [
      "0.23\n",
      "1\n"
     ]
    }
   ],
   "source": [
    "newarr = np.array([1.23,])\n",
    "re , intg  = np.modf(newarr)\n",
    "\n",
    "# rounding the number to get the accurate reuslt\n",
    "fraction = round(float(re), 2)\n",
    "integer = int(intg)\n",
    "print(fraction)\n",
    "print(integer)"
   ]
  },
  {
   "cell_type": "markdown",
   "metadata": {},
   "source": [
    "### compute the mean"
   ]
  },
  {
   "cell_type": "code",
   "execution_count": 22,
   "metadata": {
    "ExecuteTime": {
     "end_time": "2023-03-04T10:43:35.419992Z",
     "start_time": "2023-03-04T10:43:35.412784Z"
    }
   },
   "outputs": [
    {
     "name": "stdout",
     "output_type": "stream",
     "text": [
      "0.3731282930060945\n"
     ]
    }
   ],
   "source": [
    "# compute the overall mean\n",
    "print(np.mean(arr))"
   ]
  },
  {
   "cell_type": "code",
   "execution_count": 23,
   "metadata": {
    "ExecuteTime": {
     "end_time": "2023-03-04T10:43:36.104211Z",
     "start_time": "2023-03-04T10:43:36.097993Z"
    }
   },
   "outputs": [
    {
     "name": "stdout",
     "output_type": "stream",
     "text": [
      "[0.45811172 0.20204693 0.48627825 0.18727298 0.53193159]\n"
     ]
    }
   ],
   "source": [
    "# compute the mean along the row\n",
    "print(np.mean(arr, axis=0))   "
   ]
  },
  {
   "cell_type": "code",
   "execution_count": 24,
   "metadata": {
    "ExecuteTime": {
     "end_time": "2023-03-04T10:43:37.258562Z",
     "start_time": "2023-03-04T10:43:37.250258Z"
    }
   },
   "outputs": [
    {
     "name": "stdout",
     "output_type": "stream",
     "text": [
      "[0.36611761 0.44942631 0.34537118 0.44132611 0.26340026]\n"
     ]
    }
   ],
   "source": [
    "# compute the mean along the column\n",
    "print(np.mean(arr, axis=1)) "
   ]
  },
  {
   "cell_type": "markdown",
   "metadata": {},
   "source": [
    "### compute the median"
   ]
  },
  {
   "cell_type": "code",
   "execution_count": 25,
   "metadata": {
    "ExecuteTime": {
     "end_time": "2023-03-04T10:43:38.789508Z",
     "start_time": "2023-03-04T10:43:38.781657Z"
    }
   },
   "outputs": [
    {
     "name": "stdout",
     "output_type": "stream",
     "text": [
      "7.0\n"
     ]
    }
   ],
   "source": [
    "# compute the overall median\n",
    "x = [1,2,4,6,7,8,9,12, 20]\n",
    "print(np.median(x))"
   ]
  },
  {
   "cell_type": "code",
   "execution_count": 26,
   "metadata": {
    "ExecuteTime": {
     "end_time": "2023-03-04T10:43:39.198265Z",
     "start_time": "2023-03-04T10:43:39.191989Z"
    }
   },
   "outputs": [
    {
     "name": "stdout",
     "output_type": "stream",
     "text": [
      "[0.50398117 0.13742644 0.39116117 0.05158993 0.7640346 ]\n"
     ]
    }
   ],
   "source": [
    "# compute the median along the row\n",
    "print(np.median(arr, axis=0)) "
   ]
  },
  {
   "cell_type": "code",
   "execution_count": 27,
   "metadata": {
    "ExecuteTime": {
     "end_time": "2023-03-04T10:43:41.711634Z",
     "start_time": "2023-03-04T10:43:41.704713Z"
    }
   },
   "outputs": [
    {
     "name": "stdout",
     "output_type": "stream",
     "text": [
      "[0.50398117 0.40319164 0.24029187 0.43122324 0.17338751]\n"
     ]
    }
   ],
   "source": [
    "# compute the median along the column\n",
    "print(np.median(arr, axis=1))"
   ]
  },
  {
   "cell_type": "markdown",
   "metadata": {},
   "source": [
    "### compute the percentile"
   ]
  },
  {
   "cell_type": "code",
   "execution_count": 26,
   "metadata": {
    "ExecuteTime": {
     "end_time": "2022-06-04T12:35:43.208892Z",
     "start_time": "2022-06-04T12:35:43.192892Z"
    }
   },
   "outputs": [
    {
     "name": "stdout",
     "output_type": "stream",
     "text": [
      "[0.06324113 0.68166079 0.98234324]\n"
     ]
    }
   ],
   "source": [
    "arr1 = np.random.rand(100)\n",
    "# compute 5, 65, and 95 percentiles of the array\n",
    "print(np.percentile(arr1, [5, 65, 95]))"
   ]
  },
  {
   "cell_type": "markdown",
   "metadata": {},
   "source": [
    "### compute the standard deviation & variance"
   ]
  },
  {
   "cell_type": "code",
   "execution_count": 27,
   "metadata": {
    "ExecuteTime": {
     "end_time": "2022-06-04T12:35:46.321026Z",
     "start_time": "2022-06-04T12:35:46.318024Z"
    }
   },
   "outputs": [
    {
     "name": "stdout",
     "output_type": "stream",
     "text": [
      "0.31691421921254487\n"
     ]
    }
   ],
   "source": [
    "# compute the overall standard deviation\n",
    "print(np.std(arr))"
   ]
  },
  {
   "cell_type": "code",
   "execution_count": 28,
   "metadata": {
    "ExecuteTime": {
     "end_time": "2022-06-04T12:35:49.415449Z",
     "start_time": "2022-06-04T12:35:49.398449Z"
    }
   },
   "outputs": [
    {
     "name": "stdout",
     "output_type": "stream",
     "text": [
      "[0.40651498 0.22925625 0.24713125 0.37487395 0.16827072]\n"
     ]
    }
   ],
   "source": [
    "# compute the standard deviation along the row\n",
    "print(np.std(arr, axis=0))"
   ]
  },
  {
   "cell_type": "code",
   "execution_count": 29,
   "metadata": {
    "ExecuteTime": {
     "end_time": "2022-06-04T12:35:51.644516Z",
     "start_time": "2022-06-04T12:35:51.635519Z"
    }
   },
   "outputs": [
    {
     "name": "stdout",
     "output_type": "stream",
     "text": [
      "[0.24361673 0.31067439 0.19733453 0.36364029 0.34314561]\n"
     ]
    }
   ],
   "source": [
    "# compute the standard deviation along the column\n",
    "print(np.std(arr, axis=1))"
   ]
  },
  {
   "cell_type": "code",
   "execution_count": 30,
   "metadata": {
    "ExecuteTime": {
     "end_time": "2022-06-04T12:35:54.134032Z",
     "start_time": "2022-06-04T12:35:54.120032Z"
    }
   },
   "outputs": [
    {
     "name": "stdout",
     "output_type": "stream",
     "text": [
      "0.10043462233909695\n"
     ]
    }
   ],
   "source": [
    "# compute the overall variance\n",
    "print(np.var(arr))"
   ]
  },
  {
   "cell_type": "code",
   "execution_count": 31,
   "metadata": {
    "ExecuteTime": {
     "end_time": "2022-06-04T12:35:56.678693Z",
     "start_time": "2022-06-04T12:35:56.660694Z"
    }
   },
   "outputs": [
    {
     "name": "stdout",
     "output_type": "stream",
     "text": [
      "[0.16525443 0.05255843 0.06107385 0.14053048 0.02831504]\n"
     ]
    }
   ],
   "source": [
    "# compute the variance along the row\n",
    "print(np.var(arr, axis=0))"
   ]
  },
  {
   "cell_type": "code",
   "execution_count": 32,
   "metadata": {
    "ExecuteTime": {
     "end_time": "2022-06-04T12:35:58.710204Z",
     "start_time": "2022-06-04T12:35:58.705206Z"
    }
   },
   "outputs": [
    {
     "name": "stdout",
     "output_type": "stream",
     "text": [
      "[0.05934911 0.09651858 0.03894092 0.13223426 0.11774891]\n"
     ]
    }
   ],
   "source": [
    "# compute the variance along the column\n",
    "print(np.var(arr, axis=1))"
   ]
  },
  {
   "cell_type": "markdown",
   "metadata": {},
   "source": [
    "### compute the covariance & correlation"
   ]
  },
  {
   "cell_type": "code",
   "execution_count": 33,
   "metadata": {
    "ExecuteTime": {
     "end_time": "2022-06-04T12:36:34.119095Z",
     "start_time": "2022-06-04T12:36:34.103094Z"
    }
   },
   "outputs": [
    {
     "data": {
      "text/plain": [
       "array([[0.04064895, 0.89118294, 0.29135691, 0.81655582, 0.26134072,\n",
       "        0.36155554, 0.06299668, 0.758472  ],\n",
       "       [0.49546723, 0.76564698, 0.53060514, 0.19441138, 0.41685174,\n",
       "        0.60150772, 0.20362636, 0.44151339],\n",
       "       [0.16392179, 0.59051272, 0.64007483, 0.2882677 , 0.31123202,\n",
       "        0.30392522, 0.1715424 , 0.93755612],\n",
       "       [0.30653595, 0.86487783, 0.09504024, 0.93590822, 0.64106486,\n",
       "        0.81496541, 0.12099329, 0.49363603],\n",
       "       [0.20349274, 0.6386304 , 0.22040807, 0.78094032, 0.95823322,\n",
       "        0.63439705, 0.55598415, 0.18235264]])"
      ]
     },
     "execution_count": 33,
     "metadata": {},
     "output_type": "execute_result"
    }
   ],
   "source": [
    "arr = np.random.rand(5,8)\n",
    "arr"
   ]
  },
  {
   "cell_type": "code",
   "execution_count": 36,
   "metadata": {
    "ExecuteTime": {
     "end_time": "2022-02-18T11:56:56.110050Z",
     "start_time": "2022-02-18T11:56:56.059041Z"
    }
   },
   "outputs": [
    {
     "name": "stdout",
     "output_type": "stream",
     "text": [
      "[[ 0.08567154 -0.02817149  0.00271483 -0.0123241  -0.00098763]\n",
      " [-0.02817149  0.0827715   0.0595721   0.03377884  0.02593071]\n",
      " [ 0.00271483  0.0595721   0.07330257  0.04615029  0.01890943]\n",
      " [-0.0123241   0.03377884  0.04615029  0.08110026  0.02107597]\n",
      " [-0.00098763  0.02593071  0.01890943  0.02107597  0.02630454]]\n"
     ]
    }
   ],
   "source": [
    "print(np.cov(arr))"
   ]
  },
  {
   "cell_type": "code",
   "execution_count": 37,
   "metadata": {
    "ExecuteTime": {
     "end_time": "2022-02-18T11:56:57.981195Z",
     "start_time": "2022-02-18T11:56:57.971196Z"
    }
   },
   "outputs": [
    {
     "name": "stdout",
     "output_type": "stream",
     "text": [
      "[[ 1.         -0.31083632]\n",
      " [-0.31083632  1.        ]]\n"
     ]
    }
   ],
   "source": [
    "print(np.corrcoef(arr[:,0], arr[:,1]))"
   ]
  },
  {
   "cell_type": "markdown",
   "metadata": {},
   "source": [
    "### compute cumulative sum & product"
   ]
  },
  {
   "cell_type": "code",
   "execution_count": 39,
   "metadata": {
    "ExecuteTime": {
     "end_time": "2021-09-24T19:22:45.847615Z",
     "start_time": "2021-09-24T19:22:45.834649Z"
    }
   },
   "outputs": [
    {
     "ename": "SyntaxError",
     "evalue": "invalid syntax (<ipython-input-39-d4a9cd301553>, line 1)",
     "output_type": "error",
     "traceback": [
      "\u001b[1;36m  File \u001b[1;32m\"<ipython-input-39-d4a9cd301553>\"\u001b[1;36m, line \u001b[1;32m1\u001b[0m\n\u001b[1;33m    1 3 5 6 8 9\u001b[0m\n\u001b[1;37m      ^\u001b[0m\n\u001b[1;31mSyntaxError\u001b[0m\u001b[1;31m:\u001b[0m invalid syntax\n"
     ]
    }
   ],
   "source": [
    "       1 3 5 6 8 9\n",
    "csum = 1 4 9 15 23 32\n",
    "cpro = 1 3 15 90 720 ... "
   ]
  },
  {
   "cell_type": "code",
   "execution_count": 38,
   "metadata": {
    "ExecuteTime": {
     "end_time": "2022-02-18T11:57:02.126688Z",
     "start_time": "2022-02-18T11:57:02.109675Z"
    }
   },
   "outputs": [
    {
     "name": "stdout",
     "output_type": "stream",
     "text": [
      "[[0.07699789 0.52920376 0.7749342  0.88254456 0.67506679 0.57745162\n",
      "  0.10032377 0.58024666]\n",
      " [0.59347426 0.78172712 1.45870061 0.94270848 1.43247299 0.75375814\n",
      "  0.78049291 0.67714599]\n",
      " [1.09986086 1.17330089 2.3811652  1.39232364 2.00538267 0.95616065\n",
      "  1.35953669 0.69077561]\n",
      " [1.4647305  1.86065436 3.28595412 1.49693147 2.157208   1.29359436\n",
      "  1.92668225 0.86823552]\n",
      " [1.92426634 2.56012851 4.01952478 1.9937673  2.93777457 2.07162761\n",
      "  2.74670332 1.28881656]]\n"
     ]
    }
   ],
   "source": [
    "# calculate the cumulative sums along the row\n",
    "print(np.cumsum(arr, axis=0))    "
   ]
  },
  {
   "cell_type": "code",
   "execution_count": 39,
   "metadata": {
    "ExecuteTime": {
     "end_time": "2022-02-18T11:57:03.996973Z",
     "start_time": "2022-02-18T11:57:03.988973Z"
    }
   },
   "outputs": [
    {
     "name": "stdout",
     "output_type": "stream",
     "text": [
      "[[0.07699789 0.60620165 1.38113585 2.26368041 2.9387472  3.51619882\n",
      "  3.6165226  4.19676926]\n",
      " [0.51647637 0.76899973 1.45276614 1.51293005 2.27033626 2.44664277\n",
      "  3.12681191 3.22371123]\n",
      " [0.50638659 0.89796037 1.82042495 2.27004012 2.84294979 3.04535231\n",
      "  3.62439609 3.63802571]\n",
      " [0.36486965 1.05222312 1.95701205 2.06161987 2.2134452  2.55087891\n",
      "  3.11802447 3.29548439]\n",
      " [0.45953584 1.15900999 1.89258064 2.38941647 3.16998304 3.94801629\n",
      "  4.76803737 5.18861841]]\n"
     ]
    }
   ],
   "source": [
    "# calculate the cumulative sums along the column\n",
    "print(np.cumsum(arr, axis=1))    "
   ]
  },
  {
   "cell_type": "code",
   "execution_count": 40,
   "metadata": {
    "ExecuteTime": {
     "end_time": "2022-02-18T11:57:05.890977Z",
     "start_time": "2022-02-18T11:57:05.875976Z"
    }
   },
   "outputs": [
    {
     "name": "stdout",
     "output_type": "stream",
     "text": [
      "[[7.69978878e-02 5.29203763e-01 7.74934202e-01 8.82544559e-01\n",
      "  6.75066790e-01 5.77451620e-01 1.00323775e-01 5.80246662e-01]\n",
      " [3.97675900e-02 1.33636309e-01 5.29873976e-01 5.30973373e-02\n",
      "  5.11299774e-01 1.01808483e-01 6.82371348e-02 5.62255095e-02]\n",
      " [2.01377744e-02 5.23284738e-02 4.88789978e-01 2.38733681e-02\n",
      "  2.92928587e-01 2.06062932e-02 3.95122885e-02 7.66332348e-04]\n",
      " [7.34766265e-03 3.59681582e-02 4.42251759e-01 2.49734117e-03\n",
      "  4.44739793e-02 6.95325795e-03 2.24092189e-02 1.35993275e-04]\n",
      " [3.37651432e-03 2.51587968e-02 3.24422912e-01 1.24076856e-03\n",
      "  3.47149018e-02 5.40986586e-03 1.83760318e-02 5.71961928e-05]]\n"
     ]
    }
   ],
   "source": [
    "# calculate the cumulative product along the row\n",
    "print(np.cumprod(arr, axis=0))   "
   ]
  },
  {
   "cell_type": "code",
   "execution_count": 41,
   "metadata": {
    "ExecuteTime": {
     "end_time": "2022-02-18T11:57:07.656773Z",
     "start_time": "2022-02-18T11:57:07.649774Z"
    }
   },
   "outputs": [
    {
     "name": "stdout",
     "output_type": "stream",
     "text": [
      "[[7.69978878e-02 4.07475720e-02 3.15766872e-02 2.78678334e-02\n",
      "  1.88126489e-02 1.08633946e-02 1.08985675e-03 6.32385739e-04]\n",
      " [5.16476375e-01 1.30422346e-01 8.91784193e-02 5.36532299e-03\n",
      "  4.06372891e-03 7.16461884e-04 4.87315259e-04 4.72205193e-05]\n",
      " [5.06386594e-01 1.98287709e-01 1.82913390e-01 8.22406342e-02\n",
      "  4.71164550e-02 9.53648907e-03 5.52204469e-03 7.52633727e-05]\n",
      " [3.64869647e-01 2.50794419e-01 2.26916013e-01 2.37371911e-02\n",
      "  3.60390686e-03 1.21607966e-03 6.89694176e-04 1.22393071e-04]\n",
      " [4.59535838e-01 3.21433439e-01 2.35794138e-01 1.17150975e-01\n",
      "  9.14441359e-02 7.11465780e-02 5.83416937e-02 2.45374102e-02]]\n"
     ]
    }
   ],
   "source": [
    "# calculate the cumulative product along the column\n",
    "print(np.cumprod(arr, axis=1))  "
   ]
  },
  {
   "cell_type": "markdown",
   "metadata": {},
   "source": [
    "### element-wise comparison"
   ]
  },
  {
   "cell_type": "code",
   "execution_count": 42,
   "metadata": {
    "ExecuteTime": {
     "end_time": "2022-02-18T11:58:31.590941Z",
     "start_time": "2022-02-18T11:58:31.581942Z"
    }
   },
   "outputs": [],
   "source": [
    "arr1 = np.array([1,2,3,4,5])\n",
    "arr2 = np.array([5,4,3,2,1])"
   ]
  },
  {
   "cell_type": "code",
   "execution_count": 43,
   "metadata": {
    "ExecuteTime": {
     "end_time": "2022-02-18T11:58:33.122940Z",
     "start_time": "2022-02-18T11:58:33.117940Z"
    }
   },
   "outputs": [
    {
     "name": "stdout",
     "output_type": "stream",
     "text": [
      "[False False  True False False]\n",
      "[ True  True False False False]\n"
     ]
    }
   ],
   "source": [
    "# return an array of bools\n",
    "print(arr1 == arr2)    \n",
    "print(arr1 < 3)"
   ]
  },
  {
   "cell_type": "code",
   "execution_count": null,
   "metadata": {},
   "outputs": [],
   "source": []
  }
 ],
 "metadata": {
  "kernelspec": {
   "display_name": "Python 3 (ipykernel)",
   "language": "python",
   "name": "python3"
  },
  "language_info": {
   "codemirror_mode": {
    "name": "ipython",
    "version": 3
   },
   "file_extension": ".py",
   "mimetype": "text/x-python",
   "name": "python",
   "nbconvert_exporter": "python",
   "pygments_lexer": "ipython3",
   "version": "3.9.13"
  },
  "toc": {
   "base_numbering": 1,
   "nav_menu": {},
   "number_sections": true,
   "sideBar": true,
   "skip_h1_title": false,
   "title_cell": "Table of Contents",
   "title_sidebar": "Contents",
   "toc_cell": false,
   "toc_position": {},
   "toc_section_display": true,
   "toc_window_display": false
  },
  "varInspector": {
   "cols": {
    "lenName": 16,
    "lenType": 16,
    "lenVar": 40
   },
   "kernels_config": {
    "python": {
     "delete_cmd_postfix": "",
     "delete_cmd_prefix": "del ",
     "library": "var_list.py",
     "varRefreshCmd": "print(var_dic_list())"
    },
    "r": {
     "delete_cmd_postfix": ") ",
     "delete_cmd_prefix": "rm(",
     "library": "var_list.r",
     "varRefreshCmd": "cat(var_dic_list()) "
    }
   },
   "types_to_exclude": [
    "module",
    "function",
    "builtin_function_or_method",
    "instance",
    "_Feature"
   ],
   "window_display": false
  }
 },
 "nbformat": 4,
 "nbformat_minor": 2
}
